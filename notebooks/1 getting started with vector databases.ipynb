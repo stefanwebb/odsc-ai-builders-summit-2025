{
  "cells": [
    {
      "cell_type": "markdown",
      "metadata": {
        "id": "QJHt3pVQ6f_2"
      },
      "source": [
        "# Getting Started with Milvus (Lite)\n",
        "* [User Docs](https://milvus.io/docs/quickstart.md)"
      ]
    },
    {
      "cell_type": "markdown",
      "metadata": {
        "id": "Zqs3HyfA5PbE"
      },
      "source": [
        "\n",
        "### Install and import dependencies\n",
        "\n"
      ]
    },
    {
      "cell_type": "code",
      "execution_count": null,
      "metadata": {
        "colab": {
          "base_uri": "https://localhost:8080/"
        },
        "id": "_2DGJdbV31PN",
        "outputId": "d0b02b18-29e9-4c48-e38f-087355070046"
      },
      "outputs": [
        {
          "name": "stdout",
          "output_type": "stream",
          "text": [
            "Collecting pymilvus[model]\n",
            "  Downloading pymilvus-2.4.7-py3-none-any.whl.metadata (5.6 kB)\n",
            "Requirement already satisfied: setuptools>69 in /usr/local/lib/python3.10/dist-packages (from pymilvus[model]) (71.0.4)\n",
            "Requirement already satisfied: grpcio>=1.49.1 in /usr/local/lib/python3.10/dist-packages (from pymilvus[model]) (1.64.1)\n",
            "Requirement already satisfied: protobuf>=3.20.0 in /usr/local/lib/python3.10/dist-packages (from pymilvus[model]) (3.20.3)\n",
            "Collecting environs<=9.5.0 (from pymilvus[model])\n",
            "  Downloading environs-9.5.0-py2.py3-none-any.whl.metadata (14 kB)\n",
            "Collecting ujson>=2.0.0 (from pymilvus[model])\n",
            "  Downloading ujson-5.10.0-cp310-cp310-manylinux_2_17_x86_64.manylinux2014_x86_64.whl.metadata (9.3 kB)\n",
            "Requirement already satisfied: pandas>=1.2.4 in /usr/local/lib/python3.10/dist-packages (from pymilvus[model]) (2.2.2)\n",
            "Collecting milvus-lite<2.5.0,>=2.4.0 (from pymilvus[model])\n",
            "  Downloading milvus_lite-2.4.10-py3-none-manylinux2014_x86_64.whl.metadata (9.0 kB)\n",
            "Collecting milvus-model>=0.1.0 (from pymilvus[model])\n",
            "  Downloading milvus_model-0.2.7-py3-none-any.whl.metadata (1.6 kB)\n",
            "Collecting marshmallow>=3.0.0 (from environs<=9.5.0->pymilvus[model])\n",
            "  Downloading marshmallow-3.22.0-py3-none-any.whl.metadata (7.2 kB)\n",
            "Collecting python-dotenv (from environs<=9.5.0->pymilvus[model])\n",
            "  Downloading python_dotenv-1.0.1-py3-none-any.whl.metadata (23 kB)\n",
            "Requirement already satisfied: tqdm in /usr/local/lib/python3.10/dist-packages (from milvus-lite<2.5.0,>=2.4.0->pymilvus[model]) (4.66.5)\n",
            "Requirement already satisfied: transformers>=4.36.0 in /usr/local/lib/python3.10/dist-packages (from milvus-model>=0.1.0->pymilvus[model]) (4.44.2)\n",
            "Collecting onnxruntime (from milvus-model>=0.1.0->pymilvus[model])\n",
            "  Downloading onnxruntime-1.19.2-cp310-cp310-manylinux_2_27_x86_64.manylinux_2_28_x86_64.whl.metadata (4.5 kB)\n",
            "Requirement already satisfied: scipy>=1.10.0 in /usr/local/lib/python3.10/dist-packages (from milvus-model>=0.1.0->pymilvus[model]) (1.13.1)\n",
            "Requirement already satisfied: numpy in /usr/local/lib/python3.10/dist-packages (from milvus-model>=0.1.0->pymilvus[model]) (1.26.4)\n",
            "Requirement already satisfied: python-dateutil>=2.8.2 in /usr/local/lib/python3.10/dist-packages (from pandas>=1.2.4->pymilvus[model]) (2.8.2)\n",
            "Requirement already satisfied: pytz>=2020.1 in /usr/local/lib/python3.10/dist-packages (from pandas>=1.2.4->pymilvus[model]) (2024.2)\n",
            "Requirement already satisfied: tzdata>=2022.7 in /usr/local/lib/python3.10/dist-packages (from pandas>=1.2.4->pymilvus[model]) (2024.2)\n",
            "Requirement already satisfied: packaging>=17.0 in /usr/local/lib/python3.10/dist-packages (from marshmallow>=3.0.0->environs<=9.5.0->pymilvus[model]) (24.1)\n",
            "Requirement already satisfied: six>=1.5 in /usr/local/lib/python3.10/dist-packages (from python-dateutil>=2.8.2->pandas>=1.2.4->pymilvus[model]) (1.16.0)\n",
            "Requirement already satisfied: filelock in /usr/local/lib/python3.10/dist-packages (from transformers>=4.36.0->milvus-model>=0.1.0->pymilvus[model]) (3.16.1)\n",
            "Requirement already satisfied: huggingface-hub<1.0,>=0.23.2 in /usr/local/lib/python3.10/dist-packages (from transformers>=4.36.0->milvus-model>=0.1.0->pymilvus[model]) (0.24.7)\n",
            "Requirement already satisfied: pyyaml>=5.1 in /usr/local/lib/python3.10/dist-packages (from transformers>=4.36.0->milvus-model>=0.1.0->pymilvus[model]) (6.0.2)\n",
            "Requirement already satisfied: regex!=2019.12.17 in /usr/local/lib/python3.10/dist-packages (from transformers>=4.36.0->milvus-model>=0.1.0->pymilvus[model]) (2024.9.11)\n",
            "Requirement already satisfied: requests in /usr/local/lib/python3.10/dist-packages (from transformers>=4.36.0->milvus-model>=0.1.0->pymilvus[model]) (2.32.3)\n",
            "Requirement already satisfied: safetensors>=0.4.1 in /usr/local/lib/python3.10/dist-packages (from transformers>=4.36.0->milvus-model>=0.1.0->pymilvus[model]) (0.4.5)\n",
            "Requirement already satisfied: tokenizers<0.20,>=0.19 in /usr/local/lib/python3.10/dist-packages (from transformers>=4.36.0->milvus-model>=0.1.0->pymilvus[model]) (0.19.1)\n",
            "Collecting coloredlogs (from onnxruntime->milvus-model>=0.1.0->pymilvus[model])\n",
            "  Downloading coloredlogs-15.0.1-py2.py3-none-any.whl.metadata (12 kB)\n",
            "Requirement already satisfied: flatbuffers in /usr/local/lib/python3.10/dist-packages (from onnxruntime->milvus-model>=0.1.0->pymilvus[model]) (24.3.25)\n",
            "Requirement already satisfied: sympy in /usr/local/lib/python3.10/dist-packages (from onnxruntime->milvus-model>=0.1.0->pymilvus[model]) (1.13.3)\n",
            "Requirement already satisfied: fsspec>=2023.5.0 in /usr/local/lib/python3.10/dist-packages (from huggingface-hub<1.0,>=0.23.2->transformers>=4.36.0->milvus-model>=0.1.0->pymilvus[model]) (2024.6.1)\n",
            "Requirement already satisfied: typing-extensions>=3.7.4.3 in /usr/local/lib/python3.10/dist-packages (from huggingface-hub<1.0,>=0.23.2->transformers>=4.36.0->milvus-model>=0.1.0->pymilvus[model]) (4.12.2)\n",
            "Collecting humanfriendly>=9.1 (from coloredlogs->onnxruntime->milvus-model>=0.1.0->pymilvus[model])\n",
            "  Downloading humanfriendly-10.0-py2.py3-none-any.whl.metadata (9.2 kB)\n",
            "Requirement already satisfied: charset-normalizer<4,>=2 in /usr/local/lib/python3.10/dist-packages (from requests->transformers>=4.36.0->milvus-model>=0.1.0->pymilvus[model]) (3.3.2)\n",
            "Requirement already satisfied: idna<4,>=2.5 in /usr/local/lib/python3.10/dist-packages (from requests->transformers>=4.36.0->milvus-model>=0.1.0->pymilvus[model]) (3.10)\n",
            "Requirement already satisfied: urllib3<3,>=1.21.1 in /usr/local/lib/python3.10/dist-packages (from requests->transformers>=4.36.0->milvus-model>=0.1.0->pymilvus[model]) (2.2.3)\n",
            "Requirement already satisfied: certifi>=2017.4.17 in /usr/local/lib/python3.10/dist-packages (from requests->transformers>=4.36.0->milvus-model>=0.1.0->pymilvus[model]) (2024.8.30)\n",
            "Requirement already satisfied: mpmath<1.4,>=1.1.0 in /usr/local/lib/python3.10/dist-packages (from sympy->onnxruntime->milvus-model>=0.1.0->pymilvus[model]) (1.3.0)\n",
            "Downloading environs-9.5.0-py2.py3-none-any.whl (12 kB)\n",
            "Downloading milvus_lite-2.4.10-py3-none-manylinux2014_x86_64.whl (49.4 MB)\n",
            "\u001b[2K   \u001b[90m━━━━━━━━━━━━━━━━━━━━━━━━━━━━━━━━━━━━━━━━\u001b[0m \u001b[32m49.4/49.4 MB\u001b[0m \u001b[31m12.5 MB/s\u001b[0m eta \u001b[36m0:00:00\u001b[0m\n",
            "\u001b[?25hDownloading milvus_model-0.2.7-py3-none-any.whl (42 kB)\n",
            "\u001b[2K   \u001b[90m━━━━━━━━━━━━━━━━━━━━━━━━━━━━━━━━━━━━━━━━\u001b[0m \u001b[32m42.8/42.8 kB\u001b[0m \u001b[31m2.9 MB/s\u001b[0m eta \u001b[36m0:00:00\u001b[0m\n",
            "\u001b[?25hDownloading ujson-5.10.0-cp310-cp310-manylinux_2_17_x86_64.manylinux2014_x86_64.whl (53 kB)\n",
            "\u001b[2K   \u001b[90m━━━━━━━━━━━━━━━━━━━━━━━━━━━━━━━━━━━━━━━━\u001b[0m \u001b[32m53.6/53.6 kB\u001b[0m \u001b[31m3.3 MB/s\u001b[0m eta \u001b[36m0:00:00\u001b[0m\n",
            "\u001b[?25hDownloading pymilvus-2.4.7-py3-none-any.whl (198 kB)\n",
            "\u001b[2K   \u001b[90m━━━━━━━━━━━━━━━━━━━━━━━━━━━━━━━━━━━━━━━━\u001b[0m \u001b[32m198.6/198.6 kB\u001b[0m \u001b[31m13.0 MB/s\u001b[0m eta \u001b[36m0:00:00\u001b[0m\n",
            "\u001b[?25hDownloading marshmallow-3.22.0-py3-none-any.whl (49 kB)\n",
            "\u001b[2K   \u001b[90m━━━━━━━━━━━━━━━━━━━━━━━━━━━━━━━━━━━━━━━━\u001b[0m \u001b[32m49.3/49.3 kB\u001b[0m \u001b[31m2.9 MB/s\u001b[0m eta \u001b[36m0:00:00\u001b[0m\n",
            "\u001b[?25hDownloading onnxruntime-1.19.2-cp310-cp310-manylinux_2_27_x86_64.manylinux_2_28_x86_64.whl (13.2 MB)\n",
            "\u001b[2K   \u001b[90m━━━━━━━━━━━━━━━━━━━━━━━━━━━━━━━━━━━━━━━━\u001b[0m \u001b[32m13.2/13.2 MB\u001b[0m \u001b[31m78.5 MB/s\u001b[0m eta \u001b[36m0:00:00\u001b[0m\n",
            "\u001b[?25hDownloading python_dotenv-1.0.1-py3-none-any.whl (19 kB)\n",
            "Downloading coloredlogs-15.0.1-py2.py3-none-any.whl (46 kB)\n",
            "\u001b[2K   \u001b[90m━━━━━━━━━━━━━━━━━━━━━━━━━━━━━━━━━━━━━━━━\u001b[0m \u001b[32m46.0/46.0 kB\u001b[0m \u001b[31m2.2 MB/s\u001b[0m eta \u001b[36m0:00:00\u001b[0m\n",
            "\u001b[?25hDownloading humanfriendly-10.0-py2.py3-none-any.whl (86 kB)\n",
            "\u001b[2K   \u001b[90m━━━━━━━━━━━━━━━━━━━━━━━━━━━━━━━━━━━━━━━━\u001b[0m \u001b[32m86.8/86.8 kB\u001b[0m \u001b[31m5.6 MB/s\u001b[0m eta \u001b[36m0:00:00\u001b[0m\n",
            "\u001b[?25hInstalling collected packages: ujson, python-dotenv, milvus-lite, marshmallow, humanfriendly, environs, coloredlogs, pymilvus, onnxruntime, milvus-model\n",
            "Successfully installed coloredlogs-15.0.1 environs-9.5.0 humanfriendly-10.0 marshmallow-3.22.0 milvus-lite-2.4.10 milvus-model-0.2.7 onnxruntime-1.19.2 pymilvus-2.4.7 python-dotenv-1.0.1 ujson-5.10.0\n"
          ]
        }
      ],
      "source": [
        "# !pip install -U pymilvus\n",
        "!pip install -U \"pymilvus[model]\""
      ]
    },
    {
      "cell_type": "code",
      "execution_count": null,
      "metadata": {
        "id": "CO5RUN-A5UFj"
      },
      "outputs": [],
      "source": [
        "import pymilvus\n",
        "from pymilvus import MilvusClient"
      ]
    },
    {
      "cell_type": "markdown",
      "metadata": {
        "id": "jLJtx_w-5rOj"
      },
      "source": [
        "### Open Vector Database"
      ]
    },
    {
      "cell_type": "code",
      "execution_count": null,
      "metadata": {
        "colab": {
          "base_uri": "https://localhost:8080/"
        },
        "id": "07QoQQkP5t4c",
        "outputId": "40caf2a4-d74a-45ff-a6f0-7e1d52b9c882"
      },
      "outputs": [
        {
          "name": "stderr",
          "output_type": "stream",
          "text": [
            "DEBUG:pymilvus.milvus_client.milvus_client:Created new connection using: dbb90d7dadd04085a30b8baafb5a8c74\n"
          ]
        }
      ],
      "source": [
        "client = MilvusClient(\"milvus_demo2.db\")"
      ]
    },
    {
      "cell_type": "markdown",
      "metadata": {
        "id": "gVhlGHtZ5iJK"
      },
      "source": [
        "### Create a Collection"
      ]
    },
    {
      "cell_type": "code",
      "execution_count": null,
      "metadata": {
        "colab": {
          "base_uri": "https://localhost:8080/"
        },
        "id": "5qrZlars5dsc",
        "outputId": "25ea858e-6d7c-4344-f536-58a52346b217"
      },
      "outputs": [
        {
          "name": "stderr",
          "output_type": "stream",
          "text": [
            "DEBUG:pymilvus.milvus_client.milvus_client:Successfully created collection: demo_collection\n",
            "DEBUG:pymilvus.milvus_client.milvus_client:Successfully created an index on collection: demo_collection\n"
          ]
        }
      ],
      "source": [
        "if client.has_collection(collection_name=\"demo_collection\"):\n",
        "    client.drop_collection(collection_name=\"demo_collection\")\n",
        "\n",
        "client.create_collection(\n",
        "    collection_name=\"demo_collection\",\n",
        "    dimension=768,  # The vectors we will use in this demo has 768 dimensions\n",
        ")"
      ]
    },
    {
      "cell_type": "markdown",
      "metadata": {
        "id": "fPeWf4Br5_nE"
      },
      "source": [
        "### Embed text into vectors\n",
        "* [Sentence Transformers](https://huggingface.co/sentence-transformers)"
      ]
    },
    {
      "cell_type": "code",
      "execution_count": null,
      "metadata": {
        "colab": {
          "base_uri": "https://localhost:8080/"
        },
        "id": "gUZdAhdR5xNw",
        "outputId": "d2ca1dcb-386a-49c5-ebca-2fa6669d41f5"
      },
      "outputs": [
        {
          "name": "stderr",
          "output_type": "stream",
          "text": [
            "/usr/local/lib/python3.10/dist-packages/transformers/tokenization_utils_base.py:1601: FutureWarning: `clean_up_tokenization_spaces` was not set. It will be set to `True` by default. This behavior will be depracted in transformers v4.45, and will be then set to `False` by default. For more details check this issue: https://github.com/huggingface/transformers/issues/31884\n",
            "  warnings.warn(\n"
          ]
        },
        {
          "name": "stdout",
          "output_type": "stream",
          "text": [
            "Dim: 768 (768,)\n",
            "Data has 3 entities, each with fields:  dict_keys(['id', 'vector', 'text', 'subject'])\n",
            "Vector dim: 768\n"
          ]
        }
      ],
      "source": [
        "from pymilvus import model\n",
        "\n",
        "# Uses: \"paraphrase-albert-small-v2\" (~50MB).\n",
        "embedding_fn = model.DefaultEmbeddingFunction()\n",
        "\n",
        "# Text strings to search from.\n",
        "docs = [\n",
        "    \"Artificial intelligence was founded as an academic discipline in 1956.\",\n",
        "    \"Alan Turing was the first person to conduct substantial research in AI.\",\n",
        "    \"Born in Maida Vale, London, Turing was raised in southern England.\",\n",
        "]\n",
        "\n",
        "vectors = embedding_fn.encode_documents(docs)\n",
        "\n",
        "# The output vector has 768 dimensions, matching the collection that we just created.\n",
        "print(\"Dim:\", embedding_fn.dim, vectors[0].shape)  # Dim: 768 (768,)\n",
        "\n",
        "# Each entity has id, vector representation, raw text, and a subject label that we use\n",
        "# to demo metadata filtering later.\n",
        "data = [\n",
        "    {\"id\": i, \"vector\": vectors[i], \"text\": docs[i], \"subject\": \"history\"}\n",
        "    for i in range(len(vectors))\n",
        "]\n",
        "\n",
        "print(\"Data has\", len(data), \"entities, each with fields: \", data[0].keys())\n",
        "print(\"Vector dim:\", len(data[0][\"vector\"]))"
      ]
    },
    {
      "cell_type": "markdown",
      "metadata": {
        "id": "cBDvwECS6-71"
      },
      "source": [
        "### Insert embeddings into vector database"
      ]
    },
    {
      "cell_type": "code",
      "execution_count": null,
      "metadata": {
        "colab": {
          "base_uri": "https://localhost:8080/"
        },
        "id": "s0EFlfSt7Bg9",
        "outputId": "c456fa34-7b00-45b2-dd60-c8691cbdbc04"
      },
      "outputs": [
        {
          "name": "stdout",
          "output_type": "stream",
          "text": [
            "{'insert_count': 3, 'ids': [0, 1, 2]}\n"
          ]
        }
      ],
      "source": [
        "res = client.insert(collection_name=\"demo_collection\", data=data)\n",
        "\n",
        "print(res)"
      ]
    },
    {
      "cell_type": "markdown",
      "metadata": {
        "id": "Tm--k3iMIUaM"
      },
      "source": [
        "### Vector (i.e. Semantic) Search"
      ]
    },
    {
      "cell_type": "code",
      "execution_count": null,
      "metadata": {
        "colab": {
          "base_uri": "https://localhost:8080/"
        },
        "id": "_VUtW7nE7EEA",
        "outputId": "1201c60b-cbdb-43a7-973d-b1fc09ef87d2"
      },
      "outputs": [
        {
          "name": "stdout",
          "output_type": "stream",
          "text": [
            "data: [\"[{'id': 2, 'distance': 0.5859944820404053, 'entity': {'text': 'Born in Maida Vale, London, Turing was raised in southern England.', 'subject': 'history'}}, {'id': 1, 'distance': 0.5118255019187927, 'entity': {'text': 'Alan Turing was the first person to conduct substantial research in AI.', 'subject': 'history'}}]\"] \n"
          ]
        }
      ],
      "source": [
        "query_vectors = embedding_fn.encode_queries([\"Who is Alan Turing?\"])\n",
        "# If you don't have the embedding function you can use a fake vector to finish the demo:\n",
        "# query_vectors = [ [ random.uniform(-1, 1) for _ in range(768) ] ]\n",
        "\n",
        "res = client.search(\n",
        "    collection_name=\"demo_collection\",  # target collection\n",
        "    data=query_vectors,  # query vectors\n",
        "    limit=2,  # number of returned entities\n",
        "    output_fields=[\"text\", \"subject\"],  # specifies fields to be returned\n",
        ")\n",
        "\n",
        "print(res)"
      ]
    },
    {
      "cell_type": "markdown",
      "metadata": {
        "id": "W9sO8A_yIdxp"
      },
      "source": [
        "### Search with Metadata Filtering"
      ]
    },
    {
      "cell_type": "code",
      "execution_count": null,
      "metadata": {
        "colab": {
          "base_uri": "https://localhost:8080/"
        },
        "id": "diXmpDHwIcmS",
        "outputId": "a7610b98-434e-4aa2-b89e-185aa009f040"
      },
      "outputs": [
        {
          "name": "stdout",
          "output_type": "stream",
          "text": [
            "data: [\"[{'id': 4, 'distance': 0.27030572295188904, 'entity': {'text': 'Computational synthesis with AI algorithms predicts molecular properties.', 'subject': 'biology'}}, {'id': 3, 'distance': 0.1642588973045349, 'entity': {'text': 'Machine learning has been used for drug design.', 'subject': 'biology'}}]\"] \n"
          ]
        }
      ],
      "source": [
        "# Insert more docs in another subject.\n",
        "docs = [\n",
        "    \"Machine learning has been used for drug design.\",\n",
        "    \"Computational synthesis with AI algorithms predicts molecular properties.\",\n",
        "    \"DDR1 is involved in cancers and fibrosis.\",\n",
        "]\n",
        "vectors = embedding_fn.encode_documents(docs)\n",
        "data = [\n",
        "    {\"id\": 3 + i, \"vector\": vectors[i], \"text\": docs[i], \"subject\": \"biology\"}\n",
        "    for i in range(len(vectors))\n",
        "]\n",
        "\n",
        "client.insert(collection_name=\"demo_collection\", data=data)\n",
        "\n",
        "# This will exclude any text in \"history\" subject despite close to the query vector.\n",
        "res = client.search(\n",
        "    collection_name=\"demo_collection\",\n",
        "    data=embedding_fn.encode_queries([\"tell me AI related information\"]),\n",
        "    filter=\"subject == 'biology'\",\n",
        "    limit=2,\n",
        "    output_fields=[\"text\", \"subject\"],\n",
        ")\n",
        "\n",
        "print(res)"
      ]
    },
    {
      "cell_type": "markdown",
      "metadata": {
        "id": "M7HYoHRyIvnu"
      },
      "source": [
        "### Scalar Field Query"
      ]
    },
    {
      "cell_type": "code",
      "execution_count": null,
      "metadata": {
        "id": "cy8JHYUwIkSw"
      },
      "outputs": [],
      "source": [
        "res = client.query(\n",
        "    collection_name=\"demo_collection\",\n",
        "    filter=\"subject == 'history'\",\n",
        "    output_fields=[\"text\", \"subject\"],\n",
        ")"
      ]
    },
    {
      "cell_type": "code",
      "execution_count": null,
      "metadata": {
        "id": "dtCWDCnxIzD5"
      },
      "outputs": [],
      "source": [
        "res = client.query(\n",
        "    collection_name=\"demo_collection\",\n",
        "    ids=[0, 2],\n",
        "    output_fields=[\"vector\", \"text\", \"subject\"],\n",
        ")"
      ]
    },
    {
      "cell_type": "markdown",
      "metadata": {
        "id": "rUZE-o77I4BT"
      },
      "source": [
        "### Delete Entities"
      ]
    },
    {
      "cell_type": "code",
      "execution_count": null,
      "metadata": {
        "colab": {
          "base_uri": "https://localhost:8080/"
        },
        "id": "emj-OygtI1IZ",
        "outputId": "d5be3215-d06d-4809-e3d3-94589aee2dd4"
      },
      "outputs": [
        {
          "name": "stdout",
          "output_type": "stream",
          "text": [
            "[0, 2]\n",
            "[3, 4, 5]\n"
          ]
        }
      ],
      "source": [
        "# Delete entities by primary key\n",
        "res = client.delete(collection_name=\"demo_collection\", ids=[0, 2])\n",
        "\n",
        "print(res)\n",
        "\n",
        "# Delete entities by a filter expression\n",
        "res = client.delete(\n",
        "    collection_name=\"demo_collection\",\n",
        "    filter=\"subject == 'biology'\",\n",
        ")\n",
        "\n",
        "print(res)"
      ]
    },
    {
      "cell_type": "markdown",
      "metadata": {
        "id": "zXxemVKQJFVK"
      },
      "source": [
        "### Load Pre-existing Database"
      ]
    },
    {
      "cell_type": "code",
      "execution_count": null,
      "metadata": {
        "id": "-rY1FdIZI5mE"
      },
      "outputs": [],
      "source": [
        "del client"
      ]
    },
    {
      "cell_type": "code",
      "execution_count": null,
      "metadata": {
        "colab": {
          "base_uri": "https://localhost:8080/"
        },
        "id": "8pBcvu0LJZl3",
        "outputId": "89ce8f44-0c8c-4081-a86b-4c6167329f86"
      },
      "outputs": [
        {
          "name": "stderr",
          "output_type": "stream",
          "text": [
            "DEBUG:pymilvus.milvus_client.milvus_client:Created new connection using: cdd657d615e945589aae944026cc8f87\n"
          ]
        }
      ],
      "source": [
        "client = MilvusClient(\"milvus_demo.db\")"
      ]
    },
    {
      "cell_type": "code",
      "execution_count": null,
      "metadata": {
        "colab": {
          "base_uri": "https://localhost:8080/"
        },
        "id": "bL7CvOIVJbDv",
        "outputId": "01f105e2-46a4-4376-c400-f1c8f206d906"
      },
      "outputs": [
        {
          "name": "stdout",
          "output_type": "stream",
          "text": [
            "data: [\"[{'id': 1, 'distance': 0.4428038001060486, 'entity': {'text': 'Alan Turing was the first person to conduct substantial research in AI.', 'subject': 'history'}}]\"] \n"
          ]
        }
      ],
      "source": [
        "res = client.search(\n",
        "    collection_name=\"demo_collection\",\n",
        "    data=embedding_fn.encode_queries([\"tell me AI related information\"]),\n",
        "    output_fields=[\"text\", \"subject\"],\n",
        ")\n",
        "\n",
        "print(res)"
      ]
    },
    {
      "cell_type": "markdown",
      "metadata": {
        "id": "hf8CVgqdJA01"
      },
      "source": [
        "### Milvus Standalone and Cluster"
      ]
    },
    {
      "cell_type": "code",
      "execution_count": null,
      "metadata": {
        "id": "GzNL67UxJCSU"
      },
      "outputs": [],
      "source": [
        "# client = MilvusClient(uri=\"http://localhost:19530\", token=\"root:Milvus\")"
      ]
    }
  ],
  "metadata": {
    "colab": {
      "provenance": []
    },
    "kernelspec": {
      "display_name": "Python 3",
      "name": "python3"
    },
    "language_info": {
      "name": "python"
    }
  },
  "nbformat": 4,
  "nbformat_minor": 0
}
